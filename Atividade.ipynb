{
  "nbformat": 4,
  "nbformat_minor": 0,
  "metadata": {
    "colab": {
      "provenance": [],
      "include_colab_link": true
    },
    "kernelspec": {
      "name": "python3",
      "display_name": "Python 3"
    },
    "language_info": {
      "name": "python"
    }
  },
  "cells": [
    {
      "cell_type": "markdown",
      "metadata": {
        "id": "view-in-github",
        "colab_type": "text"
      },
      "source": [
        "<a href=\"https://colab.research.google.com/github/AntonioFialhoSN/Entrega_da_P2_RedesNeurais/blob/main/Atividade.ipynb\" target=\"_parent\"><img src=\"https://colab.research.google.com/assets/colab-badge.svg\" alt=\"Open In Colab\"/></a>"
      ]
    },
    {
      "cell_type": "markdown",
      "source": [
        "## Atividade: Callbacks e Schedulers em Redes Neurais"
      ],
      "metadata": {
        "id": "d6kgzJpaOKmc"
      }
    },
    {
      "cell_type": "markdown",
      "source": [
        "## Introdução\n",
        "\n",
        "Nesta atividade você irá trabalhar com dois importantes recursos no treinamento de redes neurais:\n",
        "\n",
        "- **Callbacks**: funções que atuam durante o treinamento para monitorar e ajustar o processo.\n",
        "- **Schedulers de Taxa de Aprendizado**: funções que controlam a variação da taxa de aprendizado durante o treinamento.\n",
        "\n",
        "Vamos utilizar o dataset MNIST e um modelo de rede neural simples (MLP)."
      ],
      "metadata": {
        "id": "bAJ2igtfOUHj"
      }
    },
    {
      "cell_type": "markdown",
      "source": [
        "## 1. Importação de Bibliotecas"
      ],
      "metadata": {
        "id": "6UVipkwiOdB7"
      }
    },
    {
      "cell_type": "code",
      "source": [
        "import numpy as np\n",
        "import tensorflow as tf\n",
        "from tensorflow import keras\n",
        "from tensorflow.keras.optimizers import Adam\n",
        "from tensorflow.keras import layers, callbacks\n",
        "import matplotlib.pyplot as plt"
      ],
      "metadata": {
        "id": "g0H0mkakOJOb"
      },
      "execution_count": null,
      "outputs": []
    },
    {
      "cell_type": "markdown",
      "source": [
        "## 2. Carregamento e Pré-processamento do Dataset"
      ],
      "metadata": {
        "id": "GPTTDmVXOs0D"
      }
    },
    {
      "cell_type": "code",
      "source": [
        "# Carregar MNIST\n",
        "(x_train, y_train), (x_test, y_test) = keras.datasets.mnist.load_data()\n",
        "\n",
        "# Normalizar os dados\n",
        "x_train = x_train.reshape(-1, 28*28).astype('float32') / 255.0\n",
        "x_test = x_test.reshape(-1, 28*28).astype('float32') / 255.0"
      ],
      "metadata": {
        "id": "daFIF0tIPAQE"
      },
      "execution_count": null,
      "outputs": []
    },
    {
      "cell_type": "markdown",
      "source": [
        "## 3. Definição do Modelo"
      ],
      "metadata": {
        "id": "RB7ielrrPYrS"
      }
    },
    {
      "cell_type": "code",
      "source": [
        "# Cria uma rede neural simples com uma camada oculta\n",
        "def create_model():\n",
        "    return tf.keras.Sequential([\n",
        "        layers.Dense(128, activation='relu', input_shape=(784,)),\n",
        "        layers.Dense(10, activation='softmax')\n",
        "    ])\n",
        "\n",
        "model = create_model()\n",
        "model.compile(optimizer=Adam(0.1),loss='sparse_categorical_crossentropy',metrics=['accuracy'])"
      ],
      "metadata": {
        "id": "bJsBMN2DPYDS"
      },
      "execution_count": null,
      "outputs": []
    },
    {
      "cell_type": "markdown",
      "source": [],
      "metadata": {
        "id": "q4wFXG_3PgI6"
      }
    },
    {
      "cell_type": "markdown",
      "source": [
        "## 4. EarlyStopping\n",
        "\n",
        "Agora vamos implementar um callback EarlyStopping, que interrompe o treinamento se a validação não melhorar após algumas épocas.\\"
      ],
      "metadata": {
        "id": "RAoq7E-bP0Ib"
      }
    },
    {
      "cell_type": "code",
      "source": [
        "early_stop = callbacks.EarlyStopping(\n",
        "    monitor='val_loss', patience=3, restore_best_weights=True\n",
        ")"
      ],
      "metadata": {
        "id": "GhoZKfnlP3f7"
      },
      "execution_count": null,
      "outputs": []
    },
    {
      "cell_type": "markdown",
      "source": [
        "**Pergunta:** Qual o efeito de `patience=3` e `restore_best_weights=True`?"
      ],
      "metadata": {
        "id": "edIPLcG6QDXT"
      }
    },
    {
      "cell_type": "markdown",
      "source": [
        "## 5. Implementação de Step Decay\n",
        "\n",
        "Agora vamos criar um scheduler com redução abrupta (step decay)."
      ],
      "metadata": {
        "id": "Ael2T8C4QFJS"
      }
    },
    {
      "cell_type": "code",
      "source": [
        "def step_decay(epoch, initial_lr=0.01, decay_rate=0.1, decay_steps=10):\n",
        "    return initial_lr * (decay_rate ** (epoch // decay_steps))\n",
        "\n",
        "step_scheduler = callbacks.LearningRateScheduler(step_decay)"
      ],
      "metadata": {
        "id": "urKsPuu7QXRL"
      },
      "execution_count": null,
      "outputs": []
    },
    {
      "cell_type": "markdown",
      "source": [
        "## 6. Treinamento com Step Decay"
      ],
      "metadata": {
        "id": "syV0nMD1RGma"
      }
    },
    {
      "cell_type": "code",
      "source": [
        "history_step = model.fit(\n",
        "    x_train, y_train,\n",
        "    validation_split=0.2,\n",
        "    epochs=100,\n",
        "    batch_size=128,\n",
        "    callbacks=[early_stop, step_scheduler]\n",
        ")"
      ],
      "metadata": {
        "id": "N2i11hXFRGIK"
      },
      "execution_count": null,
      "outputs": []
    },
    {
      "cell_type": "markdown",
      "source": [
        "## 7. Implementação de Exponential Decay"
      ],
      "metadata": {
        "id": "iE_uZdNzRi10"
      }
    },
    {
      "cell_type": "code",
      "source": [
        "def exp_decay(epoch, initial_lr=0.1, k=0.05):\n",
        "    return initial_lr * math.exp(-k * epoch)\n",
        "\n",
        "exp_scheduler = callbacks.LearningRateScheduler(exponential_decay)"
      ],
      "metadata": {
        "id": "IpXdPoSDRlHS"
      },
      "execution_count": null,
      "outputs": []
    },
    {
      "cell_type": "markdown",
      "source": [
        "## 8. Treinamento com Exponential Decay\n",
        "\n",
        "Antes de treinar novamente, precisamos resetar o modelo"
      ],
      "metadata": {
        "id": "gV2UvGXOR07S"
      }
    },
    {
      "cell_type": "code",
      "source": [
        "model = create_model()\n",
        "model.compile(optimizer=Adam(0.1),loss='sparse_categorical_crossentropy',metrics=['accuracy'])\n",
        "\n",
        "history_exp = model.fit(\n",
        "    x_train, y_train,\n",
        "    validation_split=0.2,\n",
        "    epochs=100,\n",
        "    batch_size=128,\n",
        "    callbacks=[early_stop, exp_scheduler]\n",
        ")"
      ],
      "metadata": {
        "id": "LYGw5xk-R5Fy"
      },
      "execution_count": null,
      "outputs": []
    },
    {
      "cell_type": "markdown",
      "source": [
        "## 9. Comparação Gráfica\n",
        "\n",
        "Agora vamos comparar os dois métodos."
      ],
      "metadata": {
        "id": "T3qvPkIwR7ui"
      }
    },
    {
      "cell_type": "code",
      "source": [
        "plt.figure(figsize=(12,5))\n",
        "\n",
        "plt.subplot(1,2,1)\n",
        "plt.plot(history_step.history['val_loss'], label='Val Loss - Step Decay')\n",
        "plt.plot(history_exp.history['val_loss'], label='Val Loss - Exp Decay')\n",
        "plt.legend()\n",
        "plt.title('Comparação da Validação Loss')\n",
        "\n",
        "plt.subplot(1,2,2)\n",
        "plt.plot(history_step.history['val_accuracy'], label='Val Acc - Step Decay')\n",
        "plt.plot(history_exp.history['val_accuracy'], label='Val Acc - Exp Decay')\n",
        "plt.legend()\n",
        "plt.title('Comparação da Validação Accuracy')\n",
        "\n",
        "plt.show()"
      ],
      "metadata": {
        "id": "jJBLd03XR_ia"
      },
      "execution_count": null,
      "outputs": []
    },
    {
      "cell_type": "markdown",
      "source": [
        "## 10. Desafio\n",
        "\n",
        "- Modifique os valores de `initial_lr` e `decay_rate` no `decay_steps` e observe o impacto.\n",
        "- Modifique o valor de `k` no `exponential_decay`.\n",
        "- Experimente remover o `EarlyStopping` e observe como o modelo se comporta.\n",
        "\n",
        "Depois de fazer os experimentos verifique e e faça uma descrição dos resultados obtidos"
      ],
      "metadata": {
        "id": "45AWLPRbSCPC"
      }
    }
  ]
}