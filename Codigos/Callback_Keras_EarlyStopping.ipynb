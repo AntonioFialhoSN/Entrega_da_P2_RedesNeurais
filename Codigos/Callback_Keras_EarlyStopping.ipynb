{
  "nbformat": 4,
  "nbformat_minor": 0,
  "metadata": {
    "colab": {
      "provenance": [],
      "authorship_tag": "ABX9TyMPm4xWBUlf99icbrKy1UAz",
      "include_colab_link": true
    },
    "kernelspec": {
      "name": "python3",
      "display_name": "Python 3"
    },
    "language_info": {
      "name": "python"
    }
  },
  "cells": [
    {
      "cell_type": "markdown",
      "metadata": {
        "id": "view-in-github",
        "colab_type": "text"
      },
      "source": [
        "<a href=\"https://colab.research.google.com/github/AntonioFialhoSN/Entrega_da_P2_RedesNeurais/blob/main/Callback_Keras_EarlyStopping.ipynb\" target=\"_parent\"><img src=\"https://colab.research.google.com/assets/colab-badge.svg\" alt=\"Open In Colab\"/></a>"
      ]
    },
    {
      "cell_type": "code",
      "execution_count": null,
      "metadata": {
        "id": "y7-YUdPWUfxO"
      },
      "outputs": [],
      "source": [
        "import numpy as np\n",
        "from tensorflow.keras.models import Sequential\n",
        "from tensorflow.keras.layers import Dense\n",
        "from tensorflow.keras.callbacks import EarlyStopping\n",
        "from sklearn.model_selection import train_test_split\n",
        "from sklearn.preprocessing import StandardScaler"
      ]
    },
    {
      "cell_type": "code",
      "source": [
        "# 1. Gerar dados de exemplo (ou carregar seus próprios dados)\n",
        "# X = seus dados de entrada, y = seus rótulos\n",
        "# Aqui estou criando dados fictícios para demonstração\n",
        "X = np.random.rand(1000, 20)  # 1000 amostras, 20 características\n",
        "y = np.random.randint(0, 2, size=(1000,))  # Classificação binária"
      ],
      "metadata": {
        "id": "v0Iy3EneVdkX"
      },
      "execution_count": null,
      "outputs": []
    },
    {
      "cell_type": "code",
      "source": [
        "# 2. Pré-processamento dos dados\n",
        "X_train, X_test, y_train, y_test = train_test_split(X, y, test_size=0.2, random_state=42)\n",
        "\n",
        "# Normalizar os dados\n",
        "scaler = StandardScaler()\n",
        "X_train = scaler.fit_transform(X_train)\n",
        "X_test = scaler.transform(X_test)"
      ],
      "metadata": {
        "id": "R5Tf8PVMVd3F"
      },
      "execution_count": null,
      "outputs": []
    },
    {
      "cell_type": "code",
      "source": [
        "# 3. Criar o modelo\n",
        "model = Sequential([\n",
        "    Dense(64, activation='relu', input_shape=(20,)),  # Camada de entrada\n",
        "    Dense(32, activation='relu'),                     # Camada oculta\n",
        "    Dense(1, activation='sigmoid')                    # Camada de saída (classificação binária)\n",
        "])\n"
      ],
      "metadata": {
        "id": "ulTbz4J6Vd99",
        "colab": {
          "base_uri": "https://localhost:8080/"
        },
        "outputId": "eb053ec0-898c-4070-9877-b48350b5e2d3"
      },
      "execution_count": null,
      "outputs": [
        {
          "output_type": "stream",
          "name": "stderr",
          "text": [
            "/usr/local/lib/python3.11/dist-packages/keras/src/layers/core/dense.py:87: UserWarning: Do not pass an `input_shape`/`input_dim` argument to a layer. When using Sequential models, prefer using an `Input(shape)` object as the first layer in the model instead.\n",
            "  super().__init__(activity_regularizer=activity_regularizer, **kwargs)\n"
          ]
        }
      ]
    },
    {
      "cell_type": "code",
      "source": [
        "# 4. Compilar o modelo\n",
        "model.compile(optimizer='adam',\n",
        "              loss='binary_crossentropy',\n",
        "              metrics=['accuracy'])\n"
      ],
      "metadata": {
        "id": "NYBf2Vk_Vhj9"
      },
      "execution_count": null,
      "outputs": []
    },
    {
      "cell_type": "code",
      "source": [
        "# 5. Definir o EarlyStopping callback\n",
        "early_stopping = EarlyStopping(\n",
        "    monitor='val_loss',    # Monitora a perda no conjunto de validação\n",
        "    patience=5,           # Número de épocas sem melhoria antes de parar\n",
        "    restore_best_weights=True,  # Restaura os pesos do melhor modelo\n",
        "    verbose=1             # Mostra mensagens\n",
        ")"
      ],
      "metadata": {
        "id": "k9IMSiEHVeD1"
      },
      "execution_count": null,
      "outputs": []
    },
    {
      "cell_type": "code",
      "source": [
        "# 6. Treinar o modelo com o callback\n",
        "history = model.fit(\n",
        "    X_train, y_train,\n",
        "    validation_split=0.2,  # Usa 20% dos dados de treino para validação\n",
        "    epochs=100,            # Número máximo de épocas\n",
        "    batch_size=32,\n",
        "    callbacks=[early_stopping],  # Passa o callback aqui\n",
        "    verbose=1\n",
        ")\n"
      ],
      "metadata": {
        "id": "kD7yR_fAVk6l",
        "colab": {
          "base_uri": "https://localhost:8080/"
        },
        "outputId": "e5b7c345-718c-4fe8-8dd4-06b07438cb6e"
      },
      "execution_count": null,
      "outputs": [
        {
          "output_type": "stream",
          "name": "stdout",
          "text": [
            "Epoch 1/100\n",
            "\u001b[1m20/20\u001b[0m \u001b[32m━━━━━━━━━━━━━━━━━━━━\u001b[0m\u001b[37m\u001b[0m \u001b[1m3s\u001b[0m 14ms/step - accuracy: 0.4704 - loss: 0.7172 - val_accuracy: 0.4187 - val_loss: 0.7200\n",
            "Epoch 2/100\n",
            "\u001b[1m20/20\u001b[0m \u001b[32m━━━━━━━━━━━━━━━━━━━━\u001b[0m\u001b[37m\u001b[0m \u001b[1m0s\u001b[0m 5ms/step - accuracy: 0.5268 - loss: 0.6847 - val_accuracy: 0.4500 - val_loss: 0.7158\n",
            "Epoch 3/100\n",
            "\u001b[1m20/20\u001b[0m \u001b[32m━━━━━━━━━━━━━━━━━━━━\u001b[0m\u001b[37m\u001b[0m \u001b[1m0s\u001b[0m 5ms/step - accuracy: 0.5963 - loss: 0.6742 - val_accuracy: 0.4437 - val_loss: 0.7141\n",
            "Epoch 4/100\n",
            "\u001b[1m20/20\u001b[0m \u001b[32m━━━━━━━━━━━━━━━━━━━━\u001b[0m\u001b[37m\u001b[0m \u001b[1m0s\u001b[0m 5ms/step - accuracy: 0.6306 - loss: 0.6539 - val_accuracy: 0.4437 - val_loss: 0.7161\n",
            "Epoch 5/100\n",
            "\u001b[1m20/20\u001b[0m \u001b[32m━━━━━━━━━━━━━━━━━━━━\u001b[0m\u001b[37m\u001b[0m \u001b[1m0s\u001b[0m 5ms/step - accuracy: 0.6164 - loss: 0.6532 - val_accuracy: 0.4688 - val_loss: 0.7154\n",
            "Epoch 6/100\n",
            "\u001b[1m20/20\u001b[0m \u001b[32m━━━━━━━━━━━━━━━━━━━━\u001b[0m\u001b[37m\u001b[0m \u001b[1m0s\u001b[0m 5ms/step - accuracy: 0.7136 - loss: 0.6295 - val_accuracy: 0.4563 - val_loss: 0.7187\n",
            "Epoch 7/100\n",
            "\u001b[1m20/20\u001b[0m \u001b[32m━━━━━━━━━━━━━━━━━━━━\u001b[0m\u001b[37m\u001b[0m \u001b[1m0s\u001b[0m 7ms/step - accuracy: 0.6699 - loss: 0.6329 - val_accuracy: 0.4625 - val_loss: 0.7208\n",
            "Epoch 8/100\n",
            "\u001b[1m20/20\u001b[0m \u001b[32m━━━━━━━━━━━━━━━━━━━━\u001b[0m\u001b[37m\u001b[0m \u001b[1m0s\u001b[0m 6ms/step - accuracy: 0.6755 - loss: 0.6307 - val_accuracy: 0.4688 - val_loss: 0.7237\n",
            "Epoch 8: early stopping\n",
            "Restoring model weights from the end of the best epoch: 3.\n"
          ]
        }
      ]
    },
    {
      "cell_type": "code",
      "source": [
        "# 7. Avaliar o modelo no conjunto de teste\n",
        "loss, accuracy = model.evaluate(X_test, y_test, verbose=0)\n",
        "print(f\"\\nAcurácia no conjunto de teste: {accuracy:.4f}\")"
      ],
      "metadata": {
        "colab": {
          "base_uri": "https://localhost:8080/"
        },
        "id": "4KlE3_X8TEw9",
        "outputId": "f1bf3597-e9cc-480c-870a-94977ad6da9d"
      },
      "execution_count": null,
      "outputs": [
        {
          "output_type": "stream",
          "name": "stdout",
          "text": [
            "\n",
            "Acurácia no conjunto de teste: 0.5200\n"
          ]
        }
      ]
    }
  ]
}