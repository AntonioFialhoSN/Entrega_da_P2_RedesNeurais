{
  "nbformat": 4,
  "nbformat_minor": 0,
  "metadata": {
    "colab": {
      "provenance": [],
      "authorship_tag": "ABX9TyMzHSsRpXOLfibzZcgnnh2K",
      "include_colab_link": true
    },
    "kernelspec": {
      "name": "python3",
      "display_name": "Python 3"
    },
    "language_info": {
      "name": "python"
    }
  },
  "cells": [
    {
      "cell_type": "markdown",
      "metadata": {
        "id": "view-in-github",
        "colab_type": "text"
      },
      "source": [
        "<a href=\"https://colab.research.google.com/github/AntonioFialhoSN/Entrega_da_P2_RedesNeurais/blob/main/Callback_PyTorch_BaseCSVWriter.ipynb\" target=\"_parent\"><img src=\"https://colab.research.google.com/assets/colab-badge.svg\" alt=\"Open In Colab\"/></a>"
      ]
    },
    {
      "cell_type": "code",
      "source": [
        "pip install torch"
      ],
      "metadata": {
        "colab": {
          "base_uri": "https://localhost:8080/"
        },
        "id": "tKZH-L_KlAsT",
        "outputId": "6ad71d64-e28c-41b2-bcc8-6f0753fa2b9f"
      },
      "execution_count": null,
      "outputs": [
        {
          "output_type": "stream",
          "name": "stdout",
          "text": [
            "Requirement already satisfied: torch in /usr/local/lib/python3.11/dist-packages (2.6.0+cu124)\n",
            "Requirement already satisfied: filelock in /usr/local/lib/python3.11/dist-packages (from torch) (3.18.0)\n",
            "Requirement already satisfied: typing-extensions>=4.10.0 in /usr/local/lib/python3.11/dist-packages (from torch) (4.14.0)\n",
            "Requirement already satisfied: networkx in /usr/local/lib/python3.11/dist-packages (from torch) (3.5)\n",
            "Requirement already satisfied: jinja2 in /usr/local/lib/python3.11/dist-packages (from torch) (3.1.6)\n",
            "Requirement already satisfied: fsspec in /usr/local/lib/python3.11/dist-packages (from torch) (2025.3.2)\n",
            "Requirement already satisfied: nvidia-cuda-nvrtc-cu12==12.4.127 in /usr/local/lib/python3.11/dist-packages (from torch) (12.4.127)\n",
            "Requirement already satisfied: nvidia-cuda-runtime-cu12==12.4.127 in /usr/local/lib/python3.11/dist-packages (from torch) (12.4.127)\n",
            "Requirement already satisfied: nvidia-cuda-cupti-cu12==12.4.127 in /usr/local/lib/python3.11/dist-packages (from torch) (12.4.127)\n",
            "Requirement already satisfied: nvidia-cudnn-cu12==9.1.0.70 in /usr/local/lib/python3.11/dist-packages (from torch) (9.1.0.70)\n",
            "Requirement already satisfied: nvidia-cublas-cu12==12.4.5.8 in /usr/local/lib/python3.11/dist-packages (from torch) (12.4.5.8)\n",
            "Requirement already satisfied: nvidia-cufft-cu12==11.2.1.3 in /usr/local/lib/python3.11/dist-packages (from torch) (11.2.1.3)\n",
            "Requirement already satisfied: nvidia-curand-cu12==10.3.5.147 in /usr/local/lib/python3.11/dist-packages (from torch) (10.3.5.147)\n",
            "Requirement already satisfied: nvidia-cusolver-cu12==11.6.1.9 in /usr/local/lib/python3.11/dist-packages (from torch) (11.6.1.9)\n",
            "Requirement already satisfied: nvidia-cusparse-cu12==12.3.1.170 in /usr/local/lib/python3.11/dist-packages (from torch) (12.3.1.170)\n",
            "Requirement already satisfied: nvidia-cusparselt-cu12==0.6.2 in /usr/local/lib/python3.11/dist-packages (from torch) (0.6.2)\n",
            "Requirement already satisfied: nvidia-nccl-cu12==2.21.5 in /usr/local/lib/python3.11/dist-packages (from torch) (2.21.5)\n",
            "Requirement already satisfied: nvidia-nvtx-cu12==12.4.127 in /usr/local/lib/python3.11/dist-packages (from torch) (12.4.127)\n",
            "Requirement already satisfied: nvidia-nvjitlink-cu12==12.4.127 in /usr/local/lib/python3.11/dist-packages (from torch) (12.4.127)\n",
            "Requirement already satisfied: triton==3.2.0 in /usr/local/lib/python3.11/dist-packages (from torch) (3.2.0)\n",
            "Requirement already satisfied: sympy==1.13.1 in /usr/local/lib/python3.11/dist-packages (from torch) (1.13.1)\n",
            "Requirement already satisfied: mpmath<1.4,>=1.1.0 in /usr/local/lib/python3.11/dist-packages (from sympy==1.13.1->torch) (1.3.0)\n",
            "Requirement already satisfied: MarkupSafe>=2.0 in /usr/local/lib/python3.11/dist-packages (from jinja2->torch) (3.0.2)\n"
          ]
        }
      ]
    },
    {
      "cell_type": "code",
      "source": [
        "# Importar bibliotecas necessárias\n",
        "import torch\n",
        "import torch.nn as nn\n",
        "import torch.optim as optim\n",
        "from torch.utils.data import DataLoader, TensorDataset\n",
        "import numpy as np\n",
        "import pandas as pd\n",
        "from sklearn.model_selection import train_test_split"
      ],
      "metadata": {
        "id": "2h-125Phq3rL"
      },
      "execution_count": null,
      "outputs": []
    },
    {
      "cell_type": "code",
      "source": [
        "class BaseCSVWriter:\n",
        "    \"\"\"\n",
        "    Callback para escrever métricas de treinamento em um arquivo CSV.\n",
        "\n",
        "    Args:\n",
        "        filename (str): Nome do arquivo CSV de saída.\n",
        "        metrics (list): Lista de métricas a serem registradas.\n",
        "    \"\"\"\n",
        "    def __init__(self, filename=\"training_log.csv\", metrics=['epoch', 'loss', 'accuracy']):\n",
        "        self.filename = filename\n",
        "        self.metrics = metrics\n",
        "        # Cria o arquivo CSV com cabeçalho\n",
        "        pd.DataFrame(columns=self.metrics).to_csv(self.filename, index=False)\n",
        "\n",
        "    def __call__(self, epoch, logs):\n",
        "        \"\"\"\n",
        "        Método chamado a cada época para registrar as métricas.\n",
        "\n",
        "        Args:\n",
        "            epoch (int): Número da época atual.\n",
        "            logs (dict): Dicionário com as métricas de treinamento/validação.\n",
        "        \"\"\"\n",
        "        # Prepara os dados para esta época\n",
        "        log_data = {metric: logs.get(metric, None) for metric in self.metrics}\n",
        "        log_data['epoch'] = epoch\n",
        "\n",
        "        # Converte para DataFrame e salva no CSV (append)\n",
        "        pd.DataFrame([log_data]).to_csv(\n",
        "            self.filename,\n",
        "            mode='a',\n",
        "            header=False,\n",
        "            index=False\n",
        "        )\n",
        "\n",
        "        print(f\"Métricas salvas em {self.filename} para a época {epoch}\")"
      ],
      "metadata": {
        "id": "9g25xCPTq33D"
      },
      "execution_count": null,
      "outputs": []
    },
    {
      "cell_type": "code",
      "source": [
        "# Gerar dados sintéticos\n",
        "np.random.seed(42)\n",
        "X = np.random.rand(1000, 10)  # 1000 amostras, 10 features\n",
        "y = (np.sum(X, axis=1) > 5).astype(int)  # Classificação binária baseada na soma\n",
        "\n",
        "# Dividir em treino e teste\n",
        "X_train, X_test, y_train, y_test = train_test_split(X, y, test_size=0.2, random_state=42)\n",
        "\n",
        "# Converter para tensores PyTorch\n",
        "X_train = torch.FloatTensor(X_train)\n",
        "X_test = torch.FloatTensor(X_test)\n",
        "y_train = torch.LongTensor(y_train)\n",
        "y_test = torch.LongTensor(y_test)\n",
        "\n",
        "# Criar DataLoaders\n",
        "train_data = TensorDataset(X_train, y_train)\n",
        "test_data = TensorDataset(X_test, y_test)\n",
        "train_loader = DataLoader(train_data, batch_size=32, shuffle=True)\n",
        "test_loader = DataLoader(test_data, batch_size=32)"
      ],
      "metadata": {
        "id": "-7GhMBzQq3_C"
      },
      "execution_count": null,
      "outputs": []
    },
    {
      "cell_type": "code",
      "source": [
        "class SimpleNN(nn.Module):\n",
        "    \"\"\"Rede neural simples para classificação binária.\"\"\"\n",
        "\n",
        "    def __init__(self, input_size):\n",
        "        super(SimpleNN, self).__init__()\n",
        "        # Define as camadas da rede:\n",
        "        self.fc1 = nn.Linear(input_size, 16)  # 1ª camada densa: input_size -> 16 neurônios\n",
        "        self.fc2 = nn.Linear(16, 8)           # 2ª camada densa: 16 -> 8 neurônios\n",
        "        self.fc3 = nn.Linear(8, 2)            # 3ª camada densa: 8 -> 2 neurônios (saída binária)\n",
        "\n",
        "        # Funções de ativação:\n",
        "        self.relu = nn.ReLU()                 # ReLU para não-linearidade\n",
        "        self.softmax = nn.Softmax(dim=1)      # Softmax para probabilidades de classe\n",
        "\n",
        "    def forward(self, x):\n",
        "        # Fluxo de dados (forward pass):\n",
        "        x = self.relu(self.fc1(x))  # Aplica fc1 seguido de ReLU\n",
        "        x = self.relu(self.fc2(x))  # Aplica fc2 seguido de ReLU\n",
        "        x = self.fc3(x)             # Aplica fc3 (sem ativação antes do softmax)\n",
        "        return self.softmax(x)      # Retorna probabilidades via softmax"
      ],
      "metadata": {
        "id": "PCMrriY4q4HS"
      },
      "execution_count": null,
      "outputs": []
    },
    {
      "cell_type": "code",
      "source": [
        "def train_model(model, train_loader, test_loader, epochs=10, lr=0.001):\n",
        "    \"\"\"Função para treinar o modelo com registro em CSV.\"\"\"\n",
        "    # Inicializar otimizador e função de perda\n",
        "    optimizer = optim.Adam(model.parameters(), lr=lr)\n",
        "    criterion = nn.CrossEntropyLoss()\n",
        "\n",
        "    # Inicializar a callback CSVWriter\n",
        "    csv_writer = BaseCSVWriter(\"training_log.csv\")\n",
        "\n",
        "    for epoch in range(epochs):\n",
        "        model.train()\n",
        "        train_loss = 0.0\n",
        "        correct = 0\n",
        "        total = 0\n",
        "\n",
        "        # Loop de treinamento\n",
        "        for inputs, labels in train_loader:\n",
        "            optimizer.zero_grad()\n",
        "            outputs = model(inputs)\n",
        "            loss = criterion(outputs, labels)\n",
        "            loss.backward()\n",
        "            optimizer.step()\n",
        "\n",
        "            train_loss += loss.item()\n",
        "            _, predicted = torch.max(outputs.data, 1)\n",
        "            total += labels.size(0)\n",
        "            correct += (predicted == labels).sum().item()\n",
        "\n",
        "        # Calcular métricas\n",
        "        train_accuracy = correct / total\n",
        "        avg_train_loss = train_loss / len(train_loader)\n",
        "\n",
        "        # Avaliar no conjunto de teste\n",
        "        test_loss, test_accuracy = evaluate_model(model, test_loader, criterion)\n",
        "\n",
        "        # Preparar logs para a callback\n",
        "        logs = {\n",
        "            'loss': avg_train_loss,\n",
        "            'accuracy': train_accuracy,\n",
        "            'val_loss': test_loss,\n",
        "            'val_accuracy': test_accuracy\n",
        "        }\n",
        "\n",
        "        # Chamar a callback para registrar as métricas\n",
        "        csv_writer(epoch, logs)\n",
        "\n",
        "        print(f\"Época {epoch+1}/{epochs}\")\n",
        "        print(f\"Train Loss: {avg_train_loss:.4f}, Accuracy: {train_accuracy:.4f}\")\n",
        "        print(f\"Test Loss: {test_loss:.4f}, Accuracy: {test_accuracy:.4f}\")\n",
        "        print(\"---------------------\")\n",
        "\n",
        "def evaluate_model(model, loader, criterion):\n",
        "    \"\"\"Avaliar o modelo em um conjunto de dados.\"\"\"\n",
        "    model.eval()\n",
        "    loss = 0.0\n",
        "    correct = 0\n",
        "    total = 0\n",
        "\n",
        "    with torch.no_grad():\n",
        "        for inputs, labels in loader:\n",
        "            outputs = model(inputs)\n",
        "            loss += criterion(outputs, labels).item()\n",
        "            _, predicted = torch.max(outputs.data, 1)\n",
        "            total += labels.size(0)\n",
        "            correct += (predicted == labels).sum().item()\n",
        "\n",
        "    return loss / len(loader), correct / total"
      ],
      "metadata": {
        "id": "L6aoxsoqq4Pz"
      },
      "execution_count": null,
      "outputs": []
    },
    {
      "cell_type": "code",
      "source": [
        "# Inicializar o modelo\n",
        "model = SimpleNN(input_size=10)\n",
        "\n",
        "# Treinar o modelo\n",
        "train_model(model, train_loader, test_loader, epochs=5)\n",
        "\n",
        "# Mostrar o conteúdo do arquivo CSV gerado\n",
        "print(\"\\nConteúdo do arquivo CSV:\")\n",
        "print(pd.read_csv(\"training_log.csv\"))"
      ],
      "metadata": {
        "id": "T8MCphxrrF1k",
        "outputId": "9b89dab7-a11e-4a20-9455-c054c0d50704",
        "colab": {
          "base_uri": "https://localhost:8080/"
        }
      },
      "execution_count": null,
      "outputs": [
        {
          "output_type": "stream",
          "name": "stdout",
          "text": [
            "Métricas salvas em training_log.csv para a época 0\n",
            "Época 1/5\n",
            "Train Loss: 0.6926, Accuracy: 0.4750\n",
            "Test Loss: 0.6983, Accuracy: 0.4200\n",
            "---------------------\n",
            "Métricas salvas em training_log.csv para a época 1\n",
            "Época 2/5\n",
            "Train Loss: 0.6872, Accuracy: 0.4775\n",
            "Test Loss: 0.6919, Accuracy: 0.4150\n",
            "---------------------\n",
            "Métricas salvas em training_log.csv para a época 2\n",
            "Época 3/5\n",
            "Train Loss: 0.6808, Accuracy: 0.5188\n",
            "Test Loss: 0.6854, Accuracy: 0.4800\n",
            "---------------------\n",
            "Métricas salvas em training_log.csv para a época 3\n",
            "Época 4/5\n",
            "Train Loss: 0.6734, Accuracy: 0.5537\n",
            "Test Loss: 0.6761, Accuracy: 0.5950\n",
            "---------------------\n",
            "Métricas salvas em training_log.csv para a época 4\n",
            "Época 5/5\n",
            "Train Loss: 0.6634, Accuracy: 0.6288\n",
            "Test Loss: 0.6672, Accuracy: 0.6000\n",
            "---------------------\n",
            "\n",
            "Conteúdo do arquivo CSV:\n",
            "   epoch      loss  accuracy\n",
            "0      0  0.692566   0.47500\n",
            "1      1  0.687156   0.47750\n",
            "2      2  0.680757   0.51875\n",
            "3      3  0.673417   0.55375\n",
            "4      4  0.663388   0.62875\n"
          ]
        }
      ]
    }
  ]
}